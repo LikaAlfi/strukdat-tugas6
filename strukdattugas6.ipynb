{
  "nbformat": 4,
  "nbformat_minor": 0,
  "metadata": {
    "colab": {
      "provenance": [],
      "authorship_tag": "ABX9TyOY4e3dpazOrKCcRQIuDnjN",
      "include_colab_link": true
    },
    "kernelspec": {
      "name": "python3",
      "display_name": "Python 3"
    },
    "language_info": {
      "name": "python"
    }
  },
  "cells": [
    {
      "cell_type": "markdown",
      "metadata": {
        "id": "view-in-github",
        "colab_type": "text"
      },
      "source": [
        "<a href=\"https://colab.research.google.com/github/LikaAlfi/strukdat-tugas6/blob/main/strukdattugas6.ipynb\" target=\"_parent\"><img src=\"https://colab.research.google.com/assets/colab-badge.svg\" alt=\"Open In Colab\"/></a>"
      ]
    },
    {
      "cell_type": "code",
      "execution_count": 41,
      "metadata": {
        "colab": {
          "base_uri": "https://localhost:8080/"
        },
        "id": "gvMC7z_8kGdi",
        "outputId": "b87c7594-c6ae-4577-9de3-7d1f8c628c58"
      },
      "outputs": [
        {
          "output_type": "stream",
          "name": "stdout",
          "text": [
            "\n",
            "Sorted by Nama:\n",
            "{'nama': 'Dario', 'umur': 23, 'total_belanja': 450000}\n",
            "{'nama': 'Elijah', 'umur': 23, 'total_belanja': 3000000}\n",
            "{'nama': 'Jaga', 'umur': 24, 'total_belanja': 7000000}\n",
            "{'nama': 'Lika', 'umur': 19, 'total_belanja': 500000}\n",
            "{'nama': 'Runa', 'umur': 22, 'total_belanja': 50000}\n",
            "{'nama': 'Zela', 'umur': 18, 'total_belanja': 150000}\n",
            "\n",
            "Sorted by Umur:\n",
            "{'nama': 'Zela', 'umur': 18, 'total_belanja': 150000}\n",
            "{'nama': 'Lika', 'umur': 19, 'total_belanja': 500000}\n",
            "{'nama': 'Runa', 'umur': 22, 'total_belanja': 50000}\n",
            "{'nama': 'Dario', 'umur': 23, 'total_belanja': 450000}\n",
            "{'nama': 'Elijah', 'umur': 23, 'total_belanja': 3000000}\n",
            "{'nama': 'Jaga', 'umur': 24, 'total_belanja': 7000000}\n",
            "\n",
            "Sorted by Total Belanja:\n",
            "{'nama': 'Runa', 'umur': 22, 'total_belanja': 50000}\n",
            "{'nama': 'Zela', 'umur': 18, 'total_belanja': 150000}\n",
            "{'nama': 'Dario', 'umur': 23, 'total_belanja': 450000}\n",
            "{'nama': 'Lika', 'umur': 19, 'total_belanja': 500000}\n",
            "{'nama': 'Elijah', 'umur': 23, 'total_belanja': 3000000}\n",
            "{'nama': 'Jaga', 'umur': 24, 'total_belanja': 7000000}\n"
          ]
        }
      ],
      "source": [
        "# latihan 1\n",
        "def merge_sort(customers, key):\n",
        "  if len(customers) > 1:\n",
        "    mid = len(customers) // 2\n",
        "    left_half = customers[:mid]\n",
        "    right_half = customers[mid:]\n",
        "\n",
        "    merge_sort(left_half, key)\n",
        "    merge_sort(right_half, key)\n",
        "\n",
        "    i = j = k = 0\n",
        "\n",
        "    while i < len(left_half) and j < len(right_half):\n",
        "      if left_half[i][key] < right_half[j][key]:\n",
        "        customers[k] = left_half[i]\n",
        "        i += 1\n",
        "      else:\n",
        "        customers[k] = right_half[j]\n",
        "        j += 1\n",
        "      k += 1\n",
        "\n",
        "    while i < len(left_half):\n",
        "      customers[k] = left_half[i]\n",
        "      i += 1\n",
        "      k += 1\n",
        "\n",
        "    while j < len(right_half):\n",
        "      customers[k] = right_half[j]\n",
        "      j += 1\n",
        "      k += 1\n",
        "\n",
        "  return customers\n",
        "# Contoh data pelanggan\n",
        "pelanggan_list = [\n",
        "    {'nama': \"Lika\",    'umur': 19, 'total_belanja': 500000},\n",
        "    {'nama': \"Zela\",    'umur': 18, 'total_belanja': 150000},\n",
        "    {'nama': \"Jaga\",    'umur': 24, 'total_belanja': 7000000},\n",
        "    {'nama': \"Elijah\",  'umur': 23, 'total_belanja': 3000000},\n",
        "    {'nama': \"Runa\",    'umur': 22, 'total_belanja': 50000},\n",
        "    {'nama': \"Dario\",   'umur': 23, 'total_belanja': 450000}\n",
        "]\n",
        "\n",
        "# Sorting berdasarkan nama\n",
        "sorted_by_nama = pelanggan_list.copy()\n",
        "merge_sort(sorted_by_nama, 'nama')\n",
        "print(\"\\nSorted by Nama:\")\n",
        "for pelanggan in sorted_by_nama:\n",
        "    print(pelanggan)\n",
        "\n",
        "# Sorting berdasarkan umur\n",
        "sorted_by_umur = pelanggan_list.copy()\n",
        "merge_sort(sorted_by_umur, 'umur')\n",
        "print(\"\\nSorted by Umur:\")\n",
        "for pelanggan in sorted_by_umur:\n",
        "    print(pelanggan)\n",
        "\n",
        "# Sorting berdasarkan total belanja\n",
        "sorted_by_total_belanja = pelanggan_list.copy()\n",
        "merge_sort(sorted_by_total_belanja, 'total_belanja')\n",
        "print(\"\\nSorted by Total Belanja:\")\n",
        "for pelanggan in sorted_by_total_belanja:\n",
        "    print(pelanggan)"
      ]
    }
  ]
}